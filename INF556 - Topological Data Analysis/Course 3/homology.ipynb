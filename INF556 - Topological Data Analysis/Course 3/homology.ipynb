{
 "cells": [
  {
   "cell_type": "code",
   "execution_count": 3,
   "metadata": {},
   "outputs": [],
   "source": [
    "import numpy as np"
   ]
  },
  {
   "cell_type": "code",
   "execution_count": 4,
   "metadata": {},
   "outputs": [],
   "source": [
    "def low(M,i): # Returns the \"lowest\" (in position) non-zero value \n",
    "              #in the column i\n",
    "    \n",
    "    # Initializing\n",
    "    res = -1 \n",
    "    \n",
    "    # Verifying the column is not zeros\n",
    "    test = 0\n",
    "    for j in range(M.shape[0]):\n",
    "        test += M[j,i]\n",
    "        \n",
    "    if (test > 0):\n",
    "        \n",
    "        for j in range(M.shape[0]):\n",
    "            if (M[j,i] != 0):\n",
    "                res = j # Lowest non-zero cell\n",
    "                \n",
    "    return res"
   ]
  },
  {
   "cell_type": "code",
   "execution_count": 5,
   "metadata": {},
   "outputs": [],
   "source": [
    "def binomial(n,k): # Returns the binomial factor \"k out of n\"\n",
    "    \n",
    "    # Symmetry\n",
    "    if ( k > (n-k) ):\n",
    "        k = n-k\n",
    "    \n",
    "    # Initializing\n",
    "    res = 1\n",
    "    \n",
    "    # Computing\n",
    "    for i in range(1,k+1):\n",
    "        res = res*(n-k+i)/i\n",
    "        \n",
    "    res = int(res)\n",
    "    \n",
    "    return res"
   ]
  },
  {
   "cell_type": "code",
   "execution_count": 6,
   "metadata": {},
   "outputs": [],
   "source": [
    "def rank(M): # Returns the rank of the matrix supposedly triangular\n",
    "    \n",
    "    #Initializing\n",
    "    res = 0\n",
    "    \n",
    "    # Going through the matrix\n",
    "    for i in range(M.shape[1]):\n",
    "        test = 0\n",
    "        for j in range(M.shape[0]):\n",
    "            test += M[j,i]\n",
    "        if (test > 0):\n",
    "            res += 1\n",
    "            \n",
    "    return res"
   ]
  },
  {
   "cell_type": "code",
   "execution_count": 40,
   "metadata": {},
   "outputs": [],
   "source": [
    "def ones_possibilities(n,length,k): # Returns all possible fillings of a list\n",
    "                             # of length n with k ones\n",
    "    # Initializing\n",
    "    L=[]\n",
    "\n",
    "    for i in range(n):\n",
    "        L.append([[0]*i + [1]*k + [0]*(length-k-i)])\n",
    "        \n",
    "    return L\n"
   ]
  },
  {
   "cell_type": "code",
   "execution_count": 8,
   "metadata": {},
   "outputs": [],
   "source": [
    "def triangular(M): # Renders a matrix M a triangular one\n",
    "    \n",
    "    cols = M.shape[1]\n",
    "    \n",
    "    for i in range(1,cols):\n",
    "        #lis = [low(M,j) for j in range(i)]\n",
    "        j = 0\n",
    "        while (j < i):\n",
    "            if ((low(M,j) == low(M,i)) and (low(M,j) != -1)):\n",
    "                M[:,i] = abs(M[:,i] - M[:,j])\n",
    "                j = 0\n",
    "            else:\n",
    "                j+=1"
   ]
  },
  {
   "cell_type": "code",
   "execution_count": 31,
   "metadata": {},
   "outputs": [],
   "source": [
    "def homologroups(d):\n",
    "    \n",
    "    n = d + 2 # Number of vertices of the simplicial complex enabling\n",
    "              # the representation of S(d)\n",
    "        \n",
    "    res = []  # This list will conatain the dimensions of the homology\n",
    "              # groups, in order of dimensionality\n",
    "    \n",
    "    \n",
    "    rank_previous = 0 # Represents the rank of the map at the previous\n",
    "                      # step\n",
    "    \n",
    "    card_previous = n # Cardinatlity of previous level: C(r-1)\n",
    "    \n",
    "    cols = n\n",
    "    # Computing matrices of the maps, ranks and then dimension\n",
    "    for i in range(1,n):\n",
    "        \n",
    "        # Computing the matrix' shape\n",
    "        rows = cols\n",
    "        cols = binomial(n,i+1)\n",
    "        \n",
    "        if (i < n-1):\n",
    "            # Possibilities list\n",
    "            L = ones_possibilities(rows, i+1)\n",
    "        \n",
    "            # Matrix\n",
    "            M = np.transpose(np.array(L))\n",
    "            print(M)\n",
    "        \n",
    "            # Rendering M triangular\n",
    "            triangular(M)\n",
    "            print(M)\n",
    "            r = rank(M)\n",
    "            print(r)\n",
    "            answer = card_previous - r - rank_previous\n",
    "            res.append(answer)\n",
    "        \n",
    "            # Updating the rank\n",
    "            rank_previous = r\n",
    "            card_previous = cols\n",
    "        \n",
    "        else:\n",
    "            res.append(card_previous - rank_previous)\n",
    "            \n",
    "    print(res)\n",
    "        "
   ]
  },
  {
   "cell_type": "code",
   "execution_count": 32,
   "metadata": {},
   "outputs": [
    {
     "name": "stdout",
     "output_type": "stream",
     "text": [
      "[[0 1 1]\n",
      " [1 0 1]\n",
      " [1 1 0]]\n",
      "[[0 1 0]\n",
      " [1 1 0]\n",
      " [1 0 0]]\n",
      "2\n",
      "[1, 1]\n",
      "[[0 0 0 1 1 1]\n",
      " [0 1 1 0 0 1]\n",
      " [1 0 1 0 1 0]\n",
      " [1 1 0 1 0 0]]\n",
      "[[0 0 0 1 0 0]\n",
      " [0 1 0 1 0 0]\n",
      " [1 1 0 0 0 0]\n",
      " [1 0 0 0 0 0]]\n",
      "3\n",
      "[[0 0 0 0 0 0 0 0 0 0 1 1 1 1 1 1 1 1 1 1]\n",
      " [0 0 0 0 1 1 1 1 1 1 0 0 0 0 0 0 1 1 1 1]\n",
      " [0 1 1 1 0 0 0 1 1 1 0 0 0 1 1 1 0 0 0 1]\n",
      " [1 0 1 1 0 1 1 0 0 1 0 1 1 0 0 1 0 0 1 0]\n",
      " [1 1 0 1 1 0 1 0 1 0 1 0 1 0 1 0 0 1 0 0]\n",
      " [1 1 1 0 1 1 0 1 0 0 1 1 0 1 0 0 1 0 0 0]]\n",
      "[[0 0 0 0 0 0 0 0 0 0 1 0 0 0 0 0 0 0 0 0]\n",
      " [0 0 0 0 1 0 0 0 0 0 0 0 0 0 0 0 0 0 0 0]\n",
      " [0 1 1 1 0 0 0 0 0 0 0 0 0 0 0 0 0 0 0 0]\n",
      " [1 1 0 0 0 0 0 0 0 0 0 0 0 0 0 0 0 0 0 0]\n",
      " [1 0 1 0 0 0 0 0 0 0 0 0 0 0 0 0 0 0 0 0]\n",
      " [1 0 0 0 0 0 0 0 0 0 0 0 0 0 0 0 0 0 0 0]]\n",
      "6\n",
      "[1, -3, -2]\n"
     ]
    }
   ],
   "source": [
    "homologroups(1)\n",
    "homologroups(2)"
   ]
  },
  {
   "cell_type": "code",
   "execution_count": 34,
   "metadata": {},
   "outputs": [
    {
     "data": {
      "text/plain": [
       "6"
      ]
     },
     "execution_count": 34,
     "metadata": {},
     "output_type": "execute_result"
    }
   ],
   "source": [
    "binomial(4,2)"
   ]
  },
  {
   "cell_type": "code",
   "execution_count": 41,
   "metadata": {},
   "outputs": [
    {
     "data": {
      "text/plain": [
       "[[[1, 1, 1, 0, 0, 0]],\n",
       " [[0, 1, 1, 1, 0, 0]],\n",
       " [[0, 0, 1, 1, 1, 0]],\n",
       " [[0, 0, 0, 1, 1, 1]]]"
      ]
     },
     "execution_count": 41,
     "metadata": {},
     "output_type": "execute_result"
    }
   ],
   "source": [
    "ones_possibilities(4, 6, 3)\n",
    "\n",
    "#len(ones_possibilities(6,2))"
   ]
  },
  {
   "cell_type": "code",
   "execution_count": null,
   "metadata": {},
   "outputs": [],
   "source": []
  }
 ],
 "metadata": {
  "kernelspec": {
   "display_name": "Python 3",
   "language": "python",
   "name": "python3"
  },
  "language_info": {
   "codemirror_mode": {
    "name": "ipython",
    "version": 3
   },
   "file_extension": ".py",
   "mimetype": "text/x-python",
   "name": "python",
   "nbconvert_exporter": "python",
   "pygments_lexer": "ipython3",
   "version": "3.7.0"
  }
 },
 "nbformat": 4,
 "nbformat_minor": 2
}
