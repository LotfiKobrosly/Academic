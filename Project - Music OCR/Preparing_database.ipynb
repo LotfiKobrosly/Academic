{
 "cells": [
  {
   "cell_type": "markdown",
   "metadata": {},
   "source": [
    "# Preparing the database"
   ]
  },
  {
   "cell_type": "markdown",
   "metadata": {},
   "source": [
    "## Using pickle library to save categories labels "
   ]
  },
  {
   "cell_type": "code",
   "execution_count": 1,
   "metadata": {},
   "outputs": [],
   "source": [
    "import pickle, os, cv2, random, csv\n",
    "import numpy as np"
   ]
  },
  {
   "cell_type": "markdown",
   "metadata": {},
   "source": [
    "## Creating and dumping the .sav file"
   ]
  },
  {
   "cell_type": "code",
   "execution_count": 6,
   "metadata": {},
   "outputs": [],
   "source": [
    "L = [\"34\", \"44\", \"BarLines\",  \"Flat\", \"Naturals\", \"Notes\", \"NotesOpen\", \"Rests\", \"SemiBreve\", \"Sharps\"]\n",
    "clefs = [\"TrebleClef\", \"BassClef\"]\n",
    "picklefile = \"categories.sav\"\n",
    "clefsfile = \"clefs.sav\"\n",
    "pickle.dump(L, open(picklefile, \"wb\"))\n",
    "pickle.dump(clefs, open(clefsfile, \"wb\"))"
   ]
  },
  {
   "cell_type": "markdown",
   "metadata": {},
   "source": [
    "## Data conversion and saving"
   ]
  },
  {
   "cell_type": "markdown",
   "metadata": {},
   "source": [
    "### Function  that reads an image and converts it to a string"
   ]
  },
  {
   "cell_type": "code",
   "execution_count": 3,
   "metadata": {},
   "outputs": [],
   "source": [
    "def saveimg(filename, cat):\n",
    "    img = cv2.imread(filename, 0)\n",
    "    n,m = img.shape[:2]\n",
    "    line = [cat]\n",
    "    for i in range(n):\n",
    "        for j in range(m):\n",
    "            line.append(img[i,j])\n",
    "    return line"
   ]
  },
  {
   "cell_type": "markdown",
   "metadata": {},
   "source": [
    "### Importing the symbols files"
   ]
  },
  {
   "cell_type": "code",
   "execution_count": 7,
   "metadata": {},
   "outputs": [],
   "source": [
    "parent_path = \"./sheets/Rebelo Dataset/database_final/\"\n",
    "list_of_lines = []\n",
    "\n",
    "for i in range(len(L)):\n",
    "    # Choosing the right directory\n",
    "    cat = L[i]\n",
    "    path = parent_path + cat + \"/\"\n",
    "    for filename in os.listdir(path):\n",
    "        file = path + filename\n",
    "        line = saveimg(file, i)\n",
    "        list_of_lines.append(line)"
   ]
  },
  {
   "cell_type": "markdown",
   "metadata": {},
   "source": [
    "### Importing the clefs files"
   ]
  },
  {
   "cell_type": "code",
   "execution_count": 8,
   "metadata": {},
   "outputs": [],
   "source": [
    "list_of_clefs = []\n",
    "for i in range(len(clefs)):\n",
    "    clef = clefs[i]\n",
    "    path = parent_path + clef + \"/\"\n",
    "    for filename in os.listdir(path):\n",
    "        file = path + filename\n",
    "        line = saveimg(file, i)\n",
    "        list_of_clefs.append(line)"
   ]
  },
  {
   "cell_type": "markdown",
   "metadata": {},
   "source": [
    "### Saving symbols"
   ]
  },
  {
   "cell_type": "code",
   "execution_count": 9,
   "metadata": {},
   "outputs": [],
   "source": [
    "random.shuffle(list_of_lines)\n",
    "with open(\"data.csv\", mode=\"w\") as datafile:\n",
    "    csvwriter = csv.writer(datafile, delimiter=\",\")\n",
    "    for line in list_of_lines:\n",
    "        csvwriter.writerow(line)"
   ]
  },
  {
   "cell_type": "markdown",
   "metadata": {},
   "source": [
    "### Saving clefs"
   ]
  },
  {
   "cell_type": "code",
   "execution_count": 10,
   "metadata": {},
   "outputs": [],
   "source": [
    "random.shuffle(list_of_clefs)\n",
    "with open(\"clefsfiles.csv\", mode=\"w\") as datafile:\n",
    "    csvwriter = csv.writer(datafile, delimiter=\",\")\n",
    "    for line in list_of_clefs:\n",
    "        csvwriter.writerow(line)"
   ]
  }
 ],
 "metadata": {
  "kernelspec": {
   "display_name": "Python 3",
   "language": "python",
   "name": "python3"
  },
  "language_info": {
   "codemirror_mode": {
    "name": "ipython",
    "version": 3
   },
   "file_extension": ".py",
   "mimetype": "text/x-python",
   "name": "python",
   "nbconvert_exporter": "python",
   "pygments_lexer": "ipython3",
   "version": "3.6.6"
  }
 },
 "nbformat": 4,
 "nbformat_minor": 2
}
