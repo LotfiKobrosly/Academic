{
 "cells": [
  {
   "cell_type": "markdown",
   "metadata": {},
   "source": [
    "# Preparing the database"
   ]
  },
  {
   "cell_type": "markdown",
   "metadata": {},
   "source": [
    "## Using pickle library to save categories labels "
   ]
  },
  {
   "cell_type": "code",
   "execution_count": 1,
   "metadata": {},
   "outputs": [],
   "source": [
    "import pickle, os, cv2, random, csv\n",
    "import numpy as np"
   ]
  },
  {
   "cell_type": "markdown",
   "metadata": {},
   "source": [
    "## Creating and dumping the .sav file"
   ]
  },
  {
   "cell_type": "code",
   "execution_count": 2,
   "metadata": {},
   "outputs": [],
   "source": [
    "L = [\"AltoCleff\", \"BarLines\", \"BassClef\", \"Beams\", \"Breve\",\"Dots\", \"Flat\", \"Naturals\", \"Notes\", \"NotesFlags\", \"NotesOpen\", \"Rests1\", \"Rests2\", \"SemiBreve\", \"Sharps\", \"TimeSignatureL\", \"TimeSignatureN\", \"TrebleClef\"]\n",
    "picklefile = \"categories.sav\"\n",
    "pickle.dump(L, open(picklefile, \"wb\"))"
   ]
  },
  {
   "cell_type": "markdown",
   "metadata": {},
   "source": [
    "## Data conversion and saving"
   ]
  },
  {
   "cell_type": "markdown",
   "metadata": {},
   "source": [
    "### Function  that reads an image and converts it to a string"
   ]
  },
  {
   "cell_type": "code",
   "execution_count": 3,
   "metadata": {},
   "outputs": [],
   "source": [
    "def saveimg(filename, cat):\n",
    "    img = cv2.imread(filename, 0)\n",
    "    n,m = img.shape[:2]\n",
    "    line = [cat]\n",
    "    for i in range(n):\n",
    "        for j in range(m):\n",
    "            line.append(img[i,j])\n",
    "    return line"
   ]
  },
  {
   "cell_type": "markdown",
   "metadata": {},
   "source": [
    "### Importing the files"
   ]
  },
  {
   "cell_type": "code",
   "execution_count": 4,
   "metadata": {},
   "outputs": [],
   "source": [
    "parent_path = \"./sheets/Rebelo Dataset/database2/MainClasses/\"\n",
    "list_of_lines = []\n",
    "\n",
    "for i in range(len(L)):\n",
    "    # Choosing the right directory\n",
    "    cat = L[i]\n",
    "    path = parent_path + cat + \"/\"\n",
    "    for filename in os.listdir(path):\n",
    "        file = path + filename\n",
    "        line = saveimg(file, i)\n",
    "        list_of_lines.append(line)"
   ]
  },
  {
   "cell_type": "code",
   "execution_count": 5,
   "metadata": {},
   "outputs": [],
   "source": [
    "length = len(list_of_lines)\n",
    "for i in range(length):\n",
    "    r = random.randint(0,length-1)\n",
    "    line = list_of_lines[i][:]\n",
    "    list_of_lines[i] = list_of_lines[r]\n",
    "    list_of_lines[r] = line"
   ]
  },
  {
   "cell_type": "code",
   "execution_count": 6,
   "metadata": {},
   "outputs": [],
   "source": [
    "with open(\"data.csv\", mode=\"w\") as datafile:\n",
    "    csvwriter = csv.writer(datafile, delimiter=\",\")\n",
    "    for line in list_of_lines:\n",
    "        csvwriter.writerow(line)"
   ]
  }
 ],
 "metadata": {
  "kernelspec": {
   "display_name": "Python 3",
   "language": "python",
   "name": "python3"
  },
  "language_info": {
   "codemirror_mode": {
    "name": "ipython",
    "version": 3
   },
   "file_extension": ".py",
   "mimetype": "text/x-python",
   "name": "python",
   "nbconvert_exporter": "python",
   "pygments_lexer": "ipython3",
   "version": "3.6.6"
  }
 },
 "nbformat": 4,
 "nbformat_minor": 2
}
