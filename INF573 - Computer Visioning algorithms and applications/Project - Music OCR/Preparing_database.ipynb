{
 "cells": [
  {
   "cell_type": "markdown",
   "metadata": {},
   "source": [
    "# Preparing the database"
   ]
  },
  {
   "cell_type": "markdown",
   "metadata": {},
   "source": [
    "## Using pickle library to save categories labels "
   ]
  },
  {
   "cell_type": "code",
   "execution_count": 1,
   "metadata": {},
   "outputs": [],
   "source": [
    "import pickle, os, cv2\n",
    "import numpy as np"
   ]
  },
  {
   "cell_type": "markdown",
   "metadata": {},
   "source": [
    "## Creating and dumping the .sav file"
   ]
  },
  {
   "cell_type": "code",
   "execution_count": 3,
   "metadata": {},
   "outputs": [],
   "source": [
    "L = [\"AltoCleff\", \"BarLines\", \"BassClef\", \"Beams\", \"Breve\",\"Dots\", \"Flat\", \"Naturals\", \"Notes\", \"NotesFlags\", \"NotesOpen\", \"Rests1\", \"Rests2\", \"SemiBreve\", \"Sharps\", \"TimeSignatureL\", \"TimeSignatureN\", \"TrebleClef\"]\n",
    "picklefile = \"categories.sav\"\n",
    "pickle.dump(L, open(picklefile, \"wb\"))"
   ]
  },
  {
   "cell_type": "markdown",
   "metadata": {},
   "source": [
    "## Data conversion and saving"
   ]
  },
  {
   "cell_type": "markdown",
   "metadata": {},
   "source": [
    "### Function  that reads an image and converts it to a string"
   ]
  },
  {
   "cell_type": "code",
   "execution_count": 4,
   "metadata": {},
   "outputs": [],
   "source": [
    "def saveimg(filename, cat):\n",
    "    img = cv2.imread(filename, 0)\n",
    "    n,m = img.shape[:2]\n",
    "    line = str(cat) + \" \"\n",
    "    for i in range(n):\n",
    "        for j in range(m):\n",
    "            line = line + str(img[i,j]) + \" \"\n",
    "    line = line + \"\\n\"\n",
    "    return line"
   ]
  },
  {
   "cell_type": "markdown",
   "metadata": {},
   "source": [
    "### Importing the files"
   ]
  },
  {
   "cell_type": "code",
   "execution_count": 5,
   "metadata": {},
   "outputs": [],
   "source": [
    "parent_path = \"./sheets/Rebelo Dataset/database2/MainClasses/\"\n",
    "writer = open(\"data.txt\", \"w\")\n",
    "\n",
    "for i in range(len(L)):\n",
    "    # Choosing the right directory\n",
    "    cat = L[i]\n",
    "    path = parent_path + cat + \"/\"\n",
    "    for filename in os.listdir(path):\n",
    "        file = path + filename\n",
    "        line = saveimg(file, i)\n",
    "        writer.write(line)"
   ]
  }
 ],
 "metadata": {
  "kernelspec": {
   "display_name": "Python 3",
   "language": "python",
   "name": "python3"
  },
  "language_info": {
   "codemirror_mode": {
    "name": "ipython",
    "version": 3
   },
   "file_extension": ".py",
   "mimetype": "text/x-python",
   "name": "python",
   "nbconvert_exporter": "python",
   "pygments_lexer": "ipython3",
   "version": "3.6.7"
  }
 },
 "nbformat": 4,
 "nbformat_minor": 2
}
