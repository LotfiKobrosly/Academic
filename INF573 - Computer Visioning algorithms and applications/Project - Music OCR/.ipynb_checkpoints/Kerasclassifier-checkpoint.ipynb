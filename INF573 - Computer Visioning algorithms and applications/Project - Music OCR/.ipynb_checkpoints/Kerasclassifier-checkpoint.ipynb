{
 "cells": [
  {
   "cell_type": "markdown",
   "metadata": {},
   "source": [
    "# Keras classifiers"
   ]
  },
  {
   "cell_type": "markdown",
   "metadata": {},
   "source": [
    "## Importing libraries"
   ]
  },
  {
   "cell_type": "code",
   "execution_count": 1,
   "metadata": {},
   "outputs": [
    {
     "name": "stderr",
     "output_type": "stream",
     "text": [
      "Using TensorFlow backend.\n"
     ]
    }
   ],
   "source": [
    "from keras.models import Sequential\n",
    "from keras.layers import Dense, MaxPooling2D, Flatten\n",
    "from keras.layers.convolutional import Conv2D\n",
    "from keras.datasets import fashion_mnist\n",
    "from keras.losses import categorical_crossentropy\n",
    "import numpy as np\n",
    "from random import shuffle\n",
    "import pickle, os, cv2\n",
    "from time import *\n",
    "import matplotlib.pyplot as plt"
   ]
  },
  {
   "cell_type": "markdown",
   "metadata": {},
   "source": [
    "## Neural network for symbols"
   ]
  },
  {
   "cell_type": "markdown",
   "metadata": {},
   "source": [
    "### Creating the netwok"
   ]
  },
  {
   "cell_type": "code",
   "execution_count": 43,
   "metadata": {},
   "outputs": [],
   "source": [
    "L = pickle.load(open(\"categories.sav\", \"rb\"))\n",
    "n_cat = len(L)\n",
    "\n",
    "model = Sequential()\n",
    "model.add(Conv2D(1, strides=(1, 1), activation='relu', kernel_size=(3,3), input_shape=(20,20,1), data_format=\"channels_last\"))\n",
    "model.add(MaxPooling2D(pool_size=(2, 2), strides=(2, 2)))\n",
    "model.add(Dense(400, activation='relu'))\n",
    "model.add(Conv2D(200, (5, 5), activation='relu'))\n",
    "model.add(MaxPooling2D(pool_size=(2, 2)))\n",
    "model.add(Flatten())\n",
    "model.add(Dense(350, activation='relu'))\n",
    "model.add(Dense(n_cat, activation='softmax'))"
   ]
  },
  {
   "cell_type": "markdown",
   "metadata": {},
   "source": [
    "### Compiling"
   ]
  },
  {
   "cell_type": "code",
   "execution_count": 44,
   "metadata": {},
   "outputs": [],
   "source": [
    "model.compile(loss='categorical_crossentropy', optimizer='adam', metrics=['accuracy'])"
   ]
  },
  {
   "cell_type": "markdown",
   "metadata": {},
   "source": [
    "### Importing data"
   ]
  },
  {
   "cell_type": "code",
   "execution_count": 45,
   "metadata": {},
   "outputs": [],
   "source": [
    "dataset = np.loadtxt(\"data.csv\", delimiter=\",\").astype(int)\n",
    "X, Y = dataset[:,1:], dataset[:,0]\n",
    "n, m = dataset.shape\n",
    "labels = []\n",
    "images = []\n",
    "for i in range(n):\n",
    "    l = [0]*n_cat\n",
    "    l[Y[i]] = 1\n",
    "    labels.append(l)\n",
    "    images.append(255-X[i].reshape(20,20))\n",
    "\n",
    "n = len(images)\n",
    "\n",
    "combination = list(zip(images,labels))\n",
    "shuffle(combination)\n",
    "\n",
    "images, labels = zip(*combination)\n",
    "\n",
    "images = np.array(images)\n",
    "images = images.reshape(images.shape[0],20,20,1)\n",
    "labels = np.array(labels)\n",
    "#labels = labels.reshape((labels.shape[1], labels.shape[0]))\n",
    "#(train_images, train_labels), (test_images, test_labels) = fashion_mnist.load_data()\n",
    "\n"
   ]
  },
  {
   "cell_type": "code",
   "execution_count": 46,
   "metadata": {},
   "outputs": [
    {
     "name": "stdout",
     "output_type": "stream",
     "text": [
      "(3073, 10)\n",
      "(3073, 20, 20, 1)\n"
     ]
    }
   ],
   "source": [
    "print(labels.shape)\n",
    "print(images.shape)"
   ]
  },
  {
   "cell_type": "markdown",
   "metadata": {},
   "source": [
    "### Splitting training and testing sets"
   ]
  },
  {
   "cell_type": "code",
   "execution_count": 47,
   "metadata": {},
   "outputs": [],
   "source": [
    "train_number = n * 80 // 100\n",
    "images_train, images_test, labels_train, labels_test = images[:train_number,:,:,:], images[train_number:,:,:,:], labels[:train_number], labels[train_number:]"
   ]
  },
  {
   "cell_type": "code",
   "execution_count": 48,
   "metadata": {},
   "outputs": [
    {
     "name": "stdout",
     "output_type": "stream",
     "text": [
      "(2458, 10)\n"
     ]
    }
   ],
   "source": [
    "print(labels_train.shape)"
   ]
  },
  {
   "cell_type": "markdown",
   "metadata": {},
   "source": [
    "### Training"
   ]
  },
  {
   "cell_type": "code",
   "execution_count": 49,
   "metadata": {},
   "outputs": [
    {
     "name": "stdout",
     "output_type": "stream",
     "text": [
      "Epoch 1/8\n",
      "2458/2458 [==============================] - 11s 5ms/step - loss: 1.5325 - acc: 0.5777\n",
      "Epoch 2/8\n",
      "2458/2458 [==============================] - 11s 4ms/step - loss: 0.8705 - acc: 0.7116\n",
      "Epoch 3/8\n",
      "2458/2458 [==============================] - 11s 5ms/step - loss: 0.6301 - acc: 0.7832\n",
      "Epoch 4/8\n",
      "2458/2458 [==============================] - 11s 5ms/step - loss: 0.4610 - acc: 0.8519\n",
      "Epoch 5/8\n",
      "2458/2458 [==============================] - 11s 5ms/step - loss: 0.3147 - acc: 0.8987\n",
      "Epoch 6/8\n",
      "2458/2458 [==============================] - 11s 5ms/step - loss: 0.2263 - acc: 0.9345\n",
      "Epoch 7/8\n",
      "2458/2458 [==============================] - 11s 5ms/step - loss: 0.2017 - acc: 0.9361\n",
      "Epoch 8/8\n",
      "2458/2458 [==============================] - 11s 5ms/step - loss: 0.1458 - acc: 0.9561\n"
     ]
    }
   ],
   "source": [
    "history = model.fit(images_train, labels_train, epochs=8)"
   ]
  },
  {
   "cell_type": "markdown",
   "metadata": {},
   "source": [
    "### Testing"
   ]
  },
  {
   "cell_type": "code",
   "execution_count": 50,
   "metadata": {},
   "outputs": [
    {
     "name": "stdout",
     "output_type": "stream",
     "text": [
      "615/615 [==============================] - 1s 1ms/step\n"
     ]
    }
   ],
   "source": [
    "loss_and_metrics = model.evaluate(images_test, labels_test)"
   ]
  },
  {
   "cell_type": "code",
   "execution_count": 51,
   "metadata": {},
   "outputs": [
    {
     "name": "stdout",
     "output_type": "stream",
     "text": [
      "[0.42888938697372997, 0.9008130081300812]\n"
     ]
    }
   ],
   "source": [
    "print(loss_and_metrics)"
   ]
  },
  {
   "cell_type": "code",
   "execution_count": 74,
   "metadata": {},
   "outputs": [
    {
     "data": {
      "image/png": "[encoded data removed]",
      "text/plain": [
       "<Figure size 432x288 with 1 Axes>"
      ]
     },
     "metadata": {
      "needs_background": "light"
     },
     "output_type": "display_data"
    }
   ],
   "source": [
    "fig = plt.figure()\n",
    "plt.plot(history.history['acc'])\n",
    "#plt.plot(history.history['val_acc'])\n",
    "plt.title('model accuracy')\n",
    "plt.ylabel('accuracy')\n",
    "plt.xlabel('epoch')\n",
    "plt.legend(['train', 'test'], loc='upper left')\n",
    "figname = \"Evolution of accuracy with epochs.png\"\n",
    "fig.savefig(figname)\n",
    "plt.show()"
   ]
  },
  {
   "cell_type": "markdown",
   "metadata": {},
   "source": [
    "### Saving the model "
   ]
  },
  {
   "cell_type": "code",
   "execution_count": 53,
   "metadata": {},
   "outputs": [],
   "source": [
    "modelname = \"symbol_classifier.sav\"\n",
    "pickle.dump(model, open(modelname, \"wb\"))"
   ]
  },
  {
   "cell_type": "markdown",
   "metadata": {},
   "source": [
    "## Neural network for clefs"
   ]
  },
  {
   "cell_type": "markdown",
   "metadata": {},
   "source": [
    "### Creating the network"
   ]
  },
  {
   "cell_type": "code",
   "execution_count": 69,
   "metadata": {},
   "outputs": [],
   "source": [
    "clefs = pickle.load(open(\"clefs.sav\", \"rb\"))\n",
    "n_clefs = len(clefs)\n",
    "\n",
    "clef_model = Sequential()\n",
    "clef_model.add(Conv2D(1, strides=(1, 1), activation='relu', kernel_size=(3,3), input_shape=(20,20,1), data_format=\"channels_last\"))\n",
    "clef_model.add(MaxPooling2D(pool_size=(2, 2), strides=(2, 2)))\n",
    "clef_model.add(Dense(300, activation='relu'))\n",
    "#clef_model.add(Conv2D(200, (5, 5), activation='relu'))\n",
    "#clef_model.add(MaxPooling2D(pool_size=(2, 2)))\n",
    "clef_model.add(Flatten())\n",
    "clef_model.add(Dense(400, activation='relu'))\n",
    "clef_model.add(Dense(n_clefs, activation='softmax'))"
   ]
  },
  {
   "cell_type": "markdown",
   "metadata": {},
   "source": [
    "### Compiling "
   ]
  },
  {
   "cell_type": "code",
   "execution_count": 70,
   "metadata": {},
   "outputs": [],
   "source": [
    "clef_model.compile(loss='categorical_crossentropy', optimizer='adam', metrics=['accuracy'])"
   ]
  },
  {
   "cell_type": "markdown",
   "metadata": {},
   "source": [
    "### Loading data"
   ]
  },
  {
   "cell_type": "code",
   "execution_count": 60,
   "metadata": {},
   "outputs": [],
   "source": [
    "clefs_set = np.loadtxt(\"clefsfiles.csv\", delimiter=\",\").astype(int)\n",
    "X, Y = clefs_set[:,1:], clefs_set[:,0]\n",
    "n, m = clefs_set.shape\n",
    "cleftypes = []\n",
    "symbols = []\n",
    "for i in range(n):\n",
    "    l = [0]*n_clefs\n",
    "    l[Y[i]] = 1\n",
    "    cleftypes.append(l)\n",
    "    symbols.append(255-X[i].reshape(20,20))\n",
    "\n",
    "n = len(symbols)\n",
    "\n",
    "combination = list(zip(symbols,cleftypes))\n",
    "shuffle(combination)\n",
    "\n",
    "symbols, cleftypes = zip(*combination)\n",
    "\n",
    "symbols = np.array(symbols)\n",
    "symbols = symbols.reshape(symbols.shape[0],20,20,1)\n",
    "cleftypes = np.array(cleftypes)"
   ]
  },
  {
   "cell_type": "markdown",
   "metadata": {},
   "source": [
    "### Splitting train and test "
   ]
  },
  {
   "cell_type": "code",
   "execution_count": 61,
   "metadata": {},
   "outputs": [],
   "source": [
    "train_number = n * 80 // 100\n",
    "symbols_train, symbols_test, cleftypes_train, cleftypes_test = symbols[:train_number,:,:,:], symbols[train_number:,:,:,:], cleftypes[:train_number], cleftypes[train_number:]"
   ]
  },
  {
   "cell_type": "markdown",
   "metadata": {},
   "source": [
    "### Training "
   ]
  },
  {
   "cell_type": "code",
   "execution_count": 71,
   "metadata": {},
   "outputs": [
    {
     "name": "stdout",
     "output_type": "stream",
     "text": [
      "Epoch 1/8\n",
      "525/525 [==============================] - 3s 5ms/step - loss: 3.1434 - acc: 0.7771\n",
      "Epoch 2/8\n",
      "525/525 [==============================] - 2s 3ms/step - loss: 0.9210 - acc: 0.9429\n",
      "Epoch 3/8\n",
      "525/525 [==============================] - 2s 3ms/step - loss: 0.3991 - acc: 0.9752\n",
      "Epoch 4/8\n",
      "525/525 [==============================] - 2s 4ms/step - loss: 0.4298 - acc: 0.9733\n",
      "Epoch 5/8\n",
      "525/525 [==============================] - 2s 3ms/step - loss: 0.4298 - acc: 0.9733\n",
      "Epoch 6/8\n",
      "525/525 [==============================] - 2s 3ms/step - loss: 0.4298 - acc: 0.9733\n",
      "Epoch 7/8\n",
      "525/525 [==============================] - 2s 3ms/step - loss: 0.4298 - acc: 0.9733\n",
      "Epoch 8/8\n",
      "525/525 [==============================] - 2s 3ms/step - loss: 0.4298 - acc: 0.9733\n"
     ]
    }
   ],
   "source": [
    "clef_history = clef_model.fit(symbols_train, cleftypes_train, epochs=8)"
   ]
  },
  {
   "cell_type": "markdown",
   "metadata": {},
   "source": [
    "### Testing "
   ]
  },
  {
   "cell_type": "code",
   "execution_count": 72,
   "metadata": {},
   "outputs": [
    {
     "name": "stdout",
     "output_type": "stream",
     "text": [
      "132/132 [==============================] - 0s 2ms/step\n",
      "[0.47141250335808954, 0.9696969696969697]\n"
     ]
    }
   ],
   "source": [
    "results = clef_model.evaluate(symbols_test, cleftypes_test)\n",
    "print(results)"
   ]
  },
  {
   "cell_type": "code",
   "execution_count": 75,
   "metadata": {},
   "outputs": [
    {
     "data": {
      "image/png": "[encoded data removed]",
      "text/plain": [
       "<Figure size 432x288 with 1 Axes>"
      ]
     },
     "metadata": {
      "needs_background": "light"
     },
     "output_type": "display_data"
    }
   ],
   "source": [
    "fig2 = plt.figure()\n",
    "plt.plot(clef_history.history['acc'])\n",
    "#plt.plot(history.history['val_acc'])\n",
    "plt.title('model accuracy')\n",
    "plt.ylabel('accuracy')\n",
    "plt.xlabel('epoch')\n",
    "plt.legend(['train', 'test'], loc='upper left')\n",
    "figname = \"Evolution of accuracy on clefs with epochs.png\"\n",
    "fig2.savefig(figname)\n",
    "plt.show()"
   ]
  },
  {
   "cell_type": "markdown",
   "metadata": {},
   "source": [
    "### Saving the model "
   ]
  },
  {
   "cell_type": "code",
   "execution_count": 76,
   "metadata": {},
   "outputs": [],
   "source": [
    "clefmodelname = \"clefmodel.sav\"\n",
    "pickle.dump(clef_model, open(clefmodelname, \"wb\"))"
   ]
  }
 ],
 "metadata": {
  "kernelspec": {
   "display_name": "Python 3",
   "language": "python",
   "name": "python3"
  },
  "language_info": {
   "codemirror_mode": {
    "name": "ipython",
    "version": 3
   },
   "file_extension": ".py",
   "mimetype": "text/x-python",
   "name": "python",
   "nbconvert_exporter": "python",
   "pygments_lexer": "ipython3",
   "version": "3.6.6"
  }
 },
 "nbformat": 4,
 "nbformat_minor": 2
}
